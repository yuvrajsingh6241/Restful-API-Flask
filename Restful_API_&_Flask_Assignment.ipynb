{
  "nbformat": 4,
  "nbformat_minor": 0,
  "metadata": {
    "colab": {
      "provenance": []
    },
    "kernelspec": {
      "name": "python3",
      "display_name": "Python 3"
    },
    "language_info": {
      "name": "python"
    }
  },
  "cells": [
    {
      "cell_type": "markdown",
      "source": [
        "# Theory\n"
      ],
      "metadata": {
        "id": "ry-kuZFXRL4X"
      }
    },
    {
      "cell_type": "markdown",
      "source": [
        "1. What is a RESTful API?\n",
        "* A RESTful API is an interface that allows applications to communicate with each other using the principles of REST (Representational State Transfer). It uses HTTP methods such as GET, POST, PUT, and DELETE to perform operations on resources. Each resource is identified by a unique URL. REST APIs are stateless, meaning every request is independent and must contain all required information. They are widely used because they are lightweight, scalable, and work well with web and mobile applications.\n",
        "\n",
        "2. Explain the concept of API specification.\n",
        "* An API specification is like a contract or blueprint that describes how the API should function. It defines the available endpoints, the request format (headers, parameters, and body), the response structure (data and status codes), and possible errors. For example, an API specification might state that GET /users returns a list of users in JSON format. API specifications are very important because they allow backend and frontend developers, as well as third-party users, to understand and use the API without confusion. Tools like OpenAPI (Swagger) are commonly used for writing specifications.\n",
        "\n",
        "3. What is Flask, and why is it popular for building APIs?\n",
        "> Flask is a lightweight Python web framework used for building web applications and APIs. It is popular because:\n",
        "\n",
        "* It is minimal and flexible, allowing developers to build only what they need.\n",
        "\n",
        "* It has an easy-to-understand syntax, which makes it beginner-friendly.\n",
        "\n",
        "* Flask has strong community support and many useful extensions like Flask-SQLAlchemy and Flask-RESTful.\n",
        "\n",
        "* It is excellent for building RESTful APIs because it allows quick development with simple routing and JSON handling.\n",
        "\n",
        "4. What is routing in Flask?\n",
        "* Routing in Flask means mapping a URL path to a Python function. When a user sends a request to a specific URL, Flask uses the route to determine which function should handle the request. For example:"
      ],
      "metadata": {
        "id": "ca2coKJhRecg"
      }
    },
    {
      "cell_type": "code",
      "source": [
        "@app.route('/hello')\n",
        "def say_hello():\n",
        "    return \"Hello, Flask!\"\n"
      ],
      "metadata": {
        "id": "PEO8bFnXSdEj"
      },
      "execution_count": null,
      "outputs": []
    },
    {
      "cell_type": "markdown",
      "source": [
        "> Here, if a user visits /hello, Flask runs the say_hello() function. Routing makes it easy to define different actions for different parts of a web application or API."
      ],
      "metadata": {
        "id": "w7jeowEtSg_O"
      }
    },
    {
      "cell_type": "markdown",
      "source": [
        "5. How do you create a simple Flask application?\n",
        "\n",
        "* To create a simple Flask application:\n",
        "\n",
        "1. Install Flask using pip install flask.\n",
        "\n",
        "2. Import Flask and create an app instance:\n",
        "\n",
        "> from flask import Flask\n",
        "\n",
        "> app = Flask(__name__)\n",
        "\n",
        "\n",
        "3. Define a route using @app.route().\n",
        "\n",
        "4. Write a function that returns a response.\n",
        "\n",
        "5. Run the application with app.run().\n",
        "> @app.route('/')\n",
        "\n",
        "> def home():\n",
        "\n",
        " > return \"Hello, Flask World!\"\n",
        "\n",
        "6. What are HTTP methods used in RESTful APIs?\n",
        "\n",
        "> RESTful APIs use standard HTTP methods to perform operations:\n",
        "\n",
        "* GET – retrieve data (e.g., get user details).\n",
        "\n",
        "* POST – create new data (e.g., add a new user).\n",
        "\n",
        "* PUT – update existing data completely.\n",
        "\n",
        "* PATCH – partially update data.\n",
        "\n",
        "* DELETE – remove data from the server.\n",
        "\n",
        "> Each method has its own purpose, which makes APIs predictable and easy to use.\n",
        "\n",
        "7. What is the purpose of the @app.route() decorator in Flask?\n",
        "\n",
        "* The @app.route() decorator in Flask is used to bind a URL to a specific function. It tells Flask which function should handle a request made to that URL. This is the basis of routing in Flask. Without routes, Flask would not know how to respond to requests from clients. It helps in organizing the application by linking different paths to different functionalities.\n",
        "\n",
        "8. What is the difference between GET and POST HTTP methods?\n",
        "\n",
        "* GET is used to request data from the server. The parameters are sent through the URL and are visible in the browser. It is generally used for reading or retrieving information.\n",
        "\n",
        "* POST is used to send data to the server. The data is sent in the body of the request, which makes it more secure and suitable for sensitive or larger information. It is generally used for creating new resources.\n",
        "\n",
        "> In simple words, GET is for reading data, while POST is for creating new data.\n",
        "\n",
        "9. How do you handle errors in Flask APIs?\n",
        "\n",
        "* Error handling in Flask APIs can be done using error handlers that return proper responses when something goes wrong. For example, if a user tries to access a resource that does not exist, the application should return a proper \"Not Found\" message with a relevant status code. This makes the API more user-friendly and professional. Custom error messages in JSON format are often used so that the client can understand the issue clearly.\n",
        "\n",
        "10. How do you connect Flask to a SQL database?\n",
        "\n",
        "* To connect Flask to a SQL database, developers generally use an extension like Flask-SQLAlchemy. This involves configuring the database connection string in the application, defining models (which represent tables), and then performing operations through Python objects. Instead of writing raw SQL queries, developers interact with the database using these models. This makes database integration easier and cleaner.\n",
        "\n",
        "11. What is the role of Flask-SQLAlchemy?\n",
        "\n",
        "* Flask-SQLAlchemy is an Object Relational Mapper (ORM) that helps developers interact with databases using Python code instead of SQL queries. It allows you to represent tables as classes and rows as objects, making database operations easier to manage. It also helps in writing cleaner, more readable code, reduces errors, and makes the application database-independent because the same code can work with multiple types of databases.\n",
        "\n",
        "12. What are Flask blueprints, and how are they useful?\n",
        "\n",
        "* Blueprints in Flask are a way to organize applications into smaller, reusable components. Instead of putting all routes and logic into a single file, developers can divide them into separate blueprints. For example, one blueprint can handle user-related routes, while another handles admin routes. This makes the application more structured, maintainable, and scalable, especially when working in teams or with large projects.\n",
        "\n",
        "13. What is the purpose of Flask's request object?\n",
        "\n",
        "* The request object in Flask represents the client’s incoming request. It contains all the information sent by the client, such as form data, JSON body, query parameters, headers, and cookies. This object allows the server to read and process client input. For example, in a login request, the username and password submitted by the user are available through the request object.\n",
        "\n",
        "14. How do you create a RESTful API endpoint using Flask?\n",
        "\n",
        "* To create a RESTful API endpoint in Flask, you define a route that accepts a specific HTTP method (such as GET or POST). Inside the route’s function, you write logic to process the request and return a structured response, usually in JSON format. Each endpoint corresponds to a resource, and different HTTP methods can be applied to that endpoint to perform operations like reading, creating, updating, or deleting data.\n",
        "\n",
        "15. What is the purpose of Flask's jsonify() function?\n",
        "\n",
        "* The jsonify() function in Flask is used to convert Python dictionaries or lists into JSON responses that can be returned to the client. JSON (JavaScript Object Notation) is the standard data format used in REST APIs. Using jsonify() ensures the response is correctly formatted and includes the right headers so that the client understands it as JSON.\n",
        "\n",
        "16. Explain Flask’s url_for() function.\n",
        "\n",
        "* The url_for() function in Flask generates URLs dynamically by referring to the function names instead of hardcoding paths. This is helpful because if the route changes, you only need to update it in one place, and Flask will generate the correct URL everywhere it is used. It makes the application more maintainable and avoids broken links.\n",
        "\n",
        "17. How does Flask handle static files (CSS, JavaScript, etc.)?\n",
        "\n",
        "* Flask serves static files such as CSS, JavaScript, and images from a special folder named \"static\". Developers place their frontend assets inside this folder, and Flask automatically makes them accessible through a specific URL path. This setup allows the integration of backend Flask code with frontend design files, making it easier to build complete web applications.\n",
        "\n",
        "18. What is an API specification, and how does it help in building a Flask API?\n",
        "\n",
        "* An API specification is a formal description of how an API should work. It defines the structure of requests, responses, endpoints, and error handling. In Flask development, an API specification helps developers know exactly what to build and how to interact with it. It ensures smooth communication between teams, reduces mistakes, and provides consistency. It acts as a guide for both developers and users of the API.\n",
        "\n",
        "19. What are HTTP status codes, and why are they important in a Flask API?\n",
        "\n",
        "* HTTP status codes are numerical codes returned by the server to indicate the outcome of a client’s request. They are important because they provide clear communication between the server and client. For example, 200 means success, 404 means resource not found, 400 means bad request, and 500 means server error. In a Flask API, returning the correct status code is essential because it tells the client whether the operation was successful or if an error occurred.\n",
        "\n",
        "20. How do you handle POST requests in Flask?\n",
        "\n",
        "* POST requests are used to send data to the server, usually to create new resources. In Flask, handling POST requests involves defining a route that accepts POST as the method and then reading the data from the request object. The server processes this data and returns a response, often confirming that the resource was created successfully.\n",
        "\n",
        "21. How would you secure a Flask API?\n",
        "\n",
        "> Securing a Flask API involves several measures:\n",
        "\n",
        "* Using authentication methods such as API keys, JWT (JSON Web Tokens), or OAuth to ensure only authorized users can access the API.\n",
        "\n",
        "* Validating and sanitizing all input to prevent attacks like SQL injection.\n",
        "\n",
        "* Using HTTPS to encrypt communication.\n",
        "\n",
        "* Implementing rate limiting to protect against abuse and denial-of-service attacks.\n",
        "\n",
        "* Proper error handling to prevent exposing sensitive system details.\n",
        "\n",
        "> These practices help protect the application and its data from unauthorized access and security threats.\n",
        "\n",
        "22. What is the significance of the Flask-RESTful extension?\n",
        "\n",
        "* Flask-RESTful is an extension that simplifies the process of creating REST APIs with Flask. It provides features like a Resource class for structuring endpoints, request parsing for validating inputs, and automatic error handling. It helps developers write cleaner, more organized, and more professional APIs. Flask-RESTful saves time and effort compared to writing everything manually.\n",
        "\n",
        "23. What is the role of Flask’s session object?\n",
        "\n",
        "* The session object in Flask is used to store information about a user across multiple requests. Since HTTP is stateless, sessions allow the application to remember data such as login status or user preferences. The data is stored securely on the server, while a session ID is stored in the client’s browser as a cookie. This way, users can stay logged in or have a personalized experience while navigating through the application.\n"
      ],
      "metadata": {
        "id": "vDuxYSYKSpsN"
      }
    },
    {
      "cell_type": "markdown",
      "source": [
        "# Practical"
      ],
      "metadata": {
        "id": "5R3m8AlzVUgh"
      }
    },
    {
      "cell_type": "code",
      "source": [
        "# 1. How do you create a basic Flask application?\n",
        "\n",
        "from flask import Flask\n",
        "app = Flask(__name__)\n",
        "\n",
        "@app.route('/')\n",
        "def home():\n",
        "    return \"Hello, Flask!\"\n",
        "\n",
        "if __name__ == '__main__':\n",
        "    app.run()\n"
      ],
      "metadata": {
        "id": "TOmKnHXoYzxS"
      },
      "execution_count": null,
      "outputs": []
    },
    {
      "cell_type": "code",
      "source": [
        "# 2. How do you serve static files like images or CSS in Flask?\n",
        "\n",
        "# Place files in 'static' folder\n",
        "# In template: <link rel=\"stylesheet\" href=\"{{ url_for('static', filename='style.css') }}\">\n"
      ],
      "metadata": {
        "id": "44IrgXuAWmaA"
      },
      "execution_count": null,
      "outputs": []
    },
    {
      "cell_type": "code",
      "source": [
        "# 3. How do you define different routes with different HTTP methods in Flask?\n",
        "\n",
        "@app.route('/submit', methods=['GET', 'POST'])\n",
        "def submit():\n",
        "    return \"Handled GET or POST\"\n"
      ],
      "metadata": {
        "id": "TWLk4qybWv8v"
      },
      "execution_count": 3,
      "outputs": []
    },
    {
      "cell_type": "code",
      "source": [
        "# 4. How do you render HTML templates in Flask?\n",
        "\n",
        "from flask import render_template\n",
        "\n",
        "@app.route('/home')\n",
        "def home():\n",
        "    return render_template('index.html')\n"
      ],
      "metadata": {
        "id": "FCbNKzkqXN2q"
      },
      "execution_count": null,
      "outputs": []
    },
    {
      "cell_type": "code",
      "source": [
        "# 5. How can you generate URLs for routes in Flask using url_for?\n",
        "\n",
        "from flask import url_for\n",
        "# url_for('home') will generate the URL for the home route\n"
      ],
      "metadata": {
        "id": "woCzpcRVXXVS"
      },
      "execution_count": null,
      "outputs": []
    },
    {
      "cell_type": "code",
      "source": [
        "# 6. How do you handle forms in Flask?\n",
        "\n",
        "from flask import request\n",
        "\n",
        "@app.route('/login', methods=['POST'])\n",
        "def login():\n",
        "    username = request.form['username']\n",
        "    return f\"Hello {username}\"\n"
      ],
      "metadata": {
        "id": "ZHcduApOXea7"
      },
      "execution_count": 4,
      "outputs": []
    },
    {
      "cell_type": "code",
      "source": [
        "# 7. How can you validate form data in Flask?\n",
        "\n",
        "if not request.form['email']:\n",
        "    return \"Email required\""
      ],
      "metadata": {
        "id": "3wNgRkQFY_HU"
      },
      "execution_count": null,
      "outputs": []
    },
    {
      "cell_type": "code",
      "source": [
        "# 8. How do you manage sessions in Flask?\n",
        "\n",
        "from flask import session\n",
        "session['user'] = 'Yuvraj'\n"
      ],
      "metadata": {
        "id": "CHBAyCAFXqV_"
      },
      "execution_count": null,
      "outputs": []
    },
    {
      "cell_type": "code",
      "source": [
        "# 9. How do you redirect to a different route in Flask?\n",
        "\n",
        "from flask import redirect, url_for\n",
        "return redirect(url_for('home'))\n"
      ],
      "metadata": {
        "id": "bOCBRjYvXv37"
      },
      "execution_count": null,
      "outputs": []
    },
    {
      "cell_type": "code",
      "source": [
        "# 10. How do you handle errors in Flask (e.g., 404)?\n",
        "\n",
        "@app.errorhandler(404)\n",
        "def page_not_found(e):\n",
        "    return \"Page not found\", 404\n"
      ],
      "metadata": {
        "id": "WWSnnXH7X3ot"
      },
      "execution_count": null,
      "outputs": []
    },
    {
      "cell_type": "code",
      "source": [
        "# 11. How do you structure a Flask app using Blueprints?\n",
        "\n",
        "from flask import Blueprint\n",
        "users_bp = Blueprint('users', __name__)\n",
        "\n",
        "@users_bp.route('/profile')\n",
        "def profile():\n",
        "    return \"User profile\"\n",
        "\n",
        "# Register blueprint in main app\n",
        "# app.register_blueprint(users_bp)\n"
      ],
      "metadata": {
        "id": "QAWppvR-X7Q2"
      },
      "execution_count": null,
      "outputs": []
    },
    {
      "cell_type": "code",
      "source": [
        "# 12. How do you define a custom Jinja filter in Flask?\n",
        "\n",
        "@app.template_filter('capitalize')\n",
        "def capitalize_filter(s):\n",
        "    return s.upper()\n"
      ],
      "metadata": {
        "id": "Rr1tRdjMYIrd"
      },
      "execution_count": null,
      "outputs": []
    },
    {
      "cell_type": "code",
      "source": [
        "# 13. How can you redirect with query parameters in Flask?\n",
        "\n",
        "return redirect(url_for('search', query='flask'))\n"
      ],
      "metadata": {
        "id": "YmY14352YP1v"
      },
      "execution_count": null,
      "outputs": []
    },
    {
      "cell_type": "code",
      "source": [
        "# 14. How do you return JSON responses in Flask?\n",
        "\n",
        "from flask import jsonify\n",
        "return jsonify({\"name\": \"Yuvraj\", \"role\": \"Student\"})\n"
      ],
      "metadata": {
        "id": "Hk-DZjRhYXDH"
      },
      "execution_count": null,
      "outputs": []
    },
    {
      "cell_type": "code",
      "source": [
        "# 15. How do you capture URL parameters in Flask?\n",
        "\n",
        "@app.route('/user/<username>')\n",
        "def user_profile(username):\n",
        "    return f\"User: {username}\"\n"
      ],
      "metadata": {
        "id": "l9l6GXbuYhfp"
      },
      "execution_count": null,
      "outputs": []
    }
  ]
}